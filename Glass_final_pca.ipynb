{
  "cells": [
    {
      "cell_type": "markdown",
      "metadata": {
        "id": "ScD7iNsm95oh"
      },
      "source": [
        "# **Exploratory Data Analysis**"
      ]
    },
    {
      "cell_type": "markdown",
      "metadata": {
        "id": "-5Esnh6jXtrJ"
      },
      "source": [
        "### **Importing Libraries**"
      ]
    },
    {
      "cell_type": "code",
      "execution_count": null,
      "metadata": {
        "id": "HclUpK9_12DW"
      },
      "outputs": [],
      "source": [
        "import pandas as pd\n",
        "import numpy as np\n",
        "import matplotlib.pyplot as plt\n",
        "import seaborn as sns\n",
        "%matplotlib inline\n"
      ]
    },
    {
      "cell_type": "markdown",
      "metadata": {
        "id": "a954ha96YFCY"
      },
      "source": [
        "### **Reading Dataset**"
      ]
    },
    {
      "cell_type": "code",
      "execution_count": null,
      "metadata": {
        "id": "3Ntn0vD42-mh",
        "outputId": "a7387abc-a46d-413f-fa28-a45296fa3eb2",
        "colab": {
          "base_uri": "https://localhost:8080/",
          "height": 345
        }
      },
      "outputs": [
        {
          "output_type": "error",
          "ename": "FileNotFoundError",
          "evalue": "ignored",
          "traceback": [
            "\u001b[0;31m---------------------------------------------------------------------------\u001b[0m",
            "\u001b[0;31mFileNotFoundError\u001b[0m                         Traceback (most recent call last)",
            "\u001b[0;32m<ipython-input-2-94c247c8da49>\u001b[0m in \u001b[0;36m<module>\u001b[0;34m\u001b[0m\n\u001b[1;32m      1\u001b[0m \u001b[0;31m#sarah\u001b[0m\u001b[0;34m\u001b[0m\u001b[0;34m\u001b[0m\u001b[0;34m\u001b[0m\u001b[0m\n\u001b[0;32m----> 2\u001b[0;31m \u001b[0mglass\u001b[0m \u001b[0;34m=\u001b[0m \u001b[0mpd\u001b[0m\u001b[0;34m.\u001b[0m\u001b[0mread_csv\u001b[0m\u001b[0;34m(\u001b[0m\u001b[0;34m\"/content/glass.csv.xls\"\u001b[0m\u001b[0;34m)\u001b[0m\u001b[0;34m\u001b[0m\u001b[0;34m\u001b[0m\u001b[0m\n\u001b[0m",
            "\u001b[0;32m/usr/local/lib/python3.8/dist-packages/pandas/util/_decorators.py\u001b[0m in \u001b[0;36mwrapper\u001b[0;34m(*args, **kwargs)\u001b[0m\n\u001b[1;32m    309\u001b[0m                     \u001b[0mstacklevel\u001b[0m\u001b[0;34m=\u001b[0m\u001b[0mstacklevel\u001b[0m\u001b[0;34m,\u001b[0m\u001b[0;34m\u001b[0m\u001b[0;34m\u001b[0m\u001b[0m\n\u001b[1;32m    310\u001b[0m                 )\n\u001b[0;32m--> 311\u001b[0;31m             \u001b[0;32mreturn\u001b[0m \u001b[0mfunc\u001b[0m\u001b[0;34m(\u001b[0m\u001b[0;34m*\u001b[0m\u001b[0margs\u001b[0m\u001b[0;34m,\u001b[0m \u001b[0;34m**\u001b[0m\u001b[0mkwargs\u001b[0m\u001b[0;34m)\u001b[0m\u001b[0;34m\u001b[0m\u001b[0;34m\u001b[0m\u001b[0m\n\u001b[0m\u001b[1;32m    312\u001b[0m \u001b[0;34m\u001b[0m\u001b[0m\n\u001b[1;32m    313\u001b[0m         \u001b[0;32mreturn\u001b[0m \u001b[0mwrapper\u001b[0m\u001b[0;34m\u001b[0m\u001b[0;34m\u001b[0m\u001b[0m\n",
            "\u001b[0;32m/usr/local/lib/python3.8/dist-packages/pandas/io/parsers/readers.py\u001b[0m in \u001b[0;36mread_csv\u001b[0;34m(filepath_or_buffer, sep, delimiter, header, names, index_col, usecols, squeeze, prefix, mangle_dupe_cols, dtype, engine, converters, true_values, false_values, skipinitialspace, skiprows, skipfooter, nrows, na_values, keep_default_na, na_filter, verbose, skip_blank_lines, parse_dates, infer_datetime_format, keep_date_col, date_parser, dayfirst, cache_dates, iterator, chunksize, compression, thousands, decimal, lineterminator, quotechar, quoting, doublequote, escapechar, comment, encoding, encoding_errors, dialect, error_bad_lines, warn_bad_lines, on_bad_lines, delim_whitespace, low_memory, memory_map, float_precision, storage_options)\u001b[0m\n\u001b[1;32m    584\u001b[0m     \u001b[0mkwds\u001b[0m\u001b[0;34m.\u001b[0m\u001b[0mupdate\u001b[0m\u001b[0;34m(\u001b[0m\u001b[0mkwds_defaults\u001b[0m\u001b[0;34m)\u001b[0m\u001b[0;34m\u001b[0m\u001b[0;34m\u001b[0m\u001b[0m\n\u001b[1;32m    585\u001b[0m \u001b[0;34m\u001b[0m\u001b[0m\n\u001b[0;32m--> 586\u001b[0;31m     \u001b[0;32mreturn\u001b[0m \u001b[0m_read\u001b[0m\u001b[0;34m(\u001b[0m\u001b[0mfilepath_or_buffer\u001b[0m\u001b[0;34m,\u001b[0m \u001b[0mkwds\u001b[0m\u001b[0;34m)\u001b[0m\u001b[0;34m\u001b[0m\u001b[0;34m\u001b[0m\u001b[0m\n\u001b[0m\u001b[1;32m    587\u001b[0m \u001b[0;34m\u001b[0m\u001b[0m\n\u001b[1;32m    588\u001b[0m \u001b[0;34m\u001b[0m\u001b[0m\n",
            "\u001b[0;32m/usr/local/lib/python3.8/dist-packages/pandas/io/parsers/readers.py\u001b[0m in \u001b[0;36m_read\u001b[0;34m(filepath_or_buffer, kwds)\u001b[0m\n\u001b[1;32m    480\u001b[0m \u001b[0;34m\u001b[0m\u001b[0m\n\u001b[1;32m    481\u001b[0m     \u001b[0;31m# Create the parser.\u001b[0m\u001b[0;34m\u001b[0m\u001b[0;34m\u001b[0m\u001b[0;34m\u001b[0m\u001b[0m\n\u001b[0;32m--> 482\u001b[0;31m     \u001b[0mparser\u001b[0m \u001b[0;34m=\u001b[0m \u001b[0mTextFileReader\u001b[0m\u001b[0;34m(\u001b[0m\u001b[0mfilepath_or_buffer\u001b[0m\u001b[0;34m,\u001b[0m \u001b[0;34m**\u001b[0m\u001b[0mkwds\u001b[0m\u001b[0;34m)\u001b[0m\u001b[0;34m\u001b[0m\u001b[0;34m\u001b[0m\u001b[0m\n\u001b[0m\u001b[1;32m    483\u001b[0m \u001b[0;34m\u001b[0m\u001b[0m\n\u001b[1;32m    484\u001b[0m     \u001b[0;32mif\u001b[0m \u001b[0mchunksize\u001b[0m \u001b[0;32mor\u001b[0m \u001b[0miterator\u001b[0m\u001b[0;34m:\u001b[0m\u001b[0;34m\u001b[0m\u001b[0;34m\u001b[0m\u001b[0m\n",
            "\u001b[0;32m/usr/local/lib/python3.8/dist-packages/pandas/io/parsers/readers.py\u001b[0m in \u001b[0;36m__init__\u001b[0;34m(self, f, engine, **kwds)\u001b[0m\n\u001b[1;32m    809\u001b[0m             \u001b[0mself\u001b[0m\u001b[0;34m.\u001b[0m\u001b[0moptions\u001b[0m\u001b[0;34m[\u001b[0m\u001b[0;34m\"has_index_names\"\u001b[0m\u001b[0;34m]\u001b[0m \u001b[0;34m=\u001b[0m \u001b[0mkwds\u001b[0m\u001b[0;34m[\u001b[0m\u001b[0;34m\"has_index_names\"\u001b[0m\u001b[0;34m]\u001b[0m\u001b[0;34m\u001b[0m\u001b[0;34m\u001b[0m\u001b[0m\n\u001b[1;32m    810\u001b[0m \u001b[0;34m\u001b[0m\u001b[0m\n\u001b[0;32m--> 811\u001b[0;31m         \u001b[0mself\u001b[0m\u001b[0;34m.\u001b[0m\u001b[0m_engine\u001b[0m \u001b[0;34m=\u001b[0m \u001b[0mself\u001b[0m\u001b[0;34m.\u001b[0m\u001b[0m_make_engine\u001b[0m\u001b[0;34m(\u001b[0m\u001b[0mself\u001b[0m\u001b[0;34m.\u001b[0m\u001b[0mengine\u001b[0m\u001b[0;34m)\u001b[0m\u001b[0;34m\u001b[0m\u001b[0;34m\u001b[0m\u001b[0m\n\u001b[0m\u001b[1;32m    812\u001b[0m \u001b[0;34m\u001b[0m\u001b[0m\n\u001b[1;32m    813\u001b[0m     \u001b[0;32mdef\u001b[0m \u001b[0mclose\u001b[0m\u001b[0;34m(\u001b[0m\u001b[0mself\u001b[0m\u001b[0;34m)\u001b[0m\u001b[0;34m:\u001b[0m\u001b[0;34m\u001b[0m\u001b[0;34m\u001b[0m\u001b[0m\n",
            "\u001b[0;32m/usr/local/lib/python3.8/dist-packages/pandas/io/parsers/readers.py\u001b[0m in \u001b[0;36m_make_engine\u001b[0;34m(self, engine)\u001b[0m\n\u001b[1;32m   1038\u001b[0m             )\n\u001b[1;32m   1039\u001b[0m         \u001b[0;31m# error: Too many arguments for \"ParserBase\"\u001b[0m\u001b[0;34m\u001b[0m\u001b[0;34m\u001b[0m\u001b[0;34m\u001b[0m\u001b[0m\n\u001b[0;32m-> 1040\u001b[0;31m         \u001b[0;32mreturn\u001b[0m \u001b[0mmapping\u001b[0m\u001b[0;34m[\u001b[0m\u001b[0mengine\u001b[0m\u001b[0;34m]\u001b[0m\u001b[0;34m(\u001b[0m\u001b[0mself\u001b[0m\u001b[0;34m.\u001b[0m\u001b[0mf\u001b[0m\u001b[0;34m,\u001b[0m \u001b[0;34m**\u001b[0m\u001b[0mself\u001b[0m\u001b[0;34m.\u001b[0m\u001b[0moptions\u001b[0m\u001b[0;34m)\u001b[0m  \u001b[0;31m# type: ignore[call-arg]\u001b[0m\u001b[0;34m\u001b[0m\u001b[0;34m\u001b[0m\u001b[0m\n\u001b[0m\u001b[1;32m   1041\u001b[0m \u001b[0;34m\u001b[0m\u001b[0m\n\u001b[1;32m   1042\u001b[0m     \u001b[0;32mdef\u001b[0m \u001b[0m_failover_to_python\u001b[0m\u001b[0;34m(\u001b[0m\u001b[0mself\u001b[0m\u001b[0;34m)\u001b[0m\u001b[0;34m:\u001b[0m\u001b[0;34m\u001b[0m\u001b[0;34m\u001b[0m\u001b[0m\n",
            "\u001b[0;32m/usr/local/lib/python3.8/dist-packages/pandas/io/parsers/c_parser_wrapper.py\u001b[0m in \u001b[0;36m__init__\u001b[0;34m(self, src, **kwds)\u001b[0m\n\u001b[1;32m     49\u001b[0m \u001b[0;34m\u001b[0m\u001b[0m\n\u001b[1;32m     50\u001b[0m         \u001b[0;31m# open handles\u001b[0m\u001b[0;34m\u001b[0m\u001b[0;34m\u001b[0m\u001b[0;34m\u001b[0m\u001b[0m\n\u001b[0;32m---> 51\u001b[0;31m         \u001b[0mself\u001b[0m\u001b[0;34m.\u001b[0m\u001b[0m_open_handles\u001b[0m\u001b[0;34m(\u001b[0m\u001b[0msrc\u001b[0m\u001b[0;34m,\u001b[0m \u001b[0mkwds\u001b[0m\u001b[0;34m)\u001b[0m\u001b[0;34m\u001b[0m\u001b[0;34m\u001b[0m\u001b[0m\n\u001b[0m\u001b[1;32m     52\u001b[0m         \u001b[0;32massert\u001b[0m \u001b[0mself\u001b[0m\u001b[0;34m.\u001b[0m\u001b[0mhandles\u001b[0m \u001b[0;32mis\u001b[0m \u001b[0;32mnot\u001b[0m \u001b[0;32mNone\u001b[0m\u001b[0;34m\u001b[0m\u001b[0;34m\u001b[0m\u001b[0m\n\u001b[1;32m     53\u001b[0m \u001b[0;34m\u001b[0m\u001b[0m\n",
            "\u001b[0;32m/usr/local/lib/python3.8/dist-packages/pandas/io/parsers/base_parser.py\u001b[0m in \u001b[0;36m_open_handles\u001b[0;34m(self, src, kwds)\u001b[0m\n\u001b[1;32m    220\u001b[0m         \u001b[0mLet\u001b[0m \u001b[0mthe\u001b[0m \u001b[0mreaders\u001b[0m \u001b[0mopen\u001b[0m \u001b[0mIOHandles\u001b[0m \u001b[0mafter\u001b[0m \u001b[0mthey\u001b[0m \u001b[0mare\u001b[0m \u001b[0mdone\u001b[0m \u001b[0;32mwith\u001b[0m \u001b[0mtheir\u001b[0m \u001b[0mpotential\u001b[0m \u001b[0mraises\u001b[0m\u001b[0;34m.\u001b[0m\u001b[0;34m\u001b[0m\u001b[0;34m\u001b[0m\u001b[0m\n\u001b[1;32m    221\u001b[0m         \"\"\"\n\u001b[0;32m--> 222\u001b[0;31m         self.handles = get_handle(\n\u001b[0m\u001b[1;32m    223\u001b[0m             \u001b[0msrc\u001b[0m\u001b[0;34m,\u001b[0m\u001b[0;34m\u001b[0m\u001b[0;34m\u001b[0m\u001b[0m\n\u001b[1;32m    224\u001b[0m             \u001b[0;34m\"r\"\u001b[0m\u001b[0;34m,\u001b[0m\u001b[0;34m\u001b[0m\u001b[0;34m\u001b[0m\u001b[0m\n",
            "\u001b[0;32m/usr/local/lib/python3.8/dist-packages/pandas/io/common.py\u001b[0m in \u001b[0;36mget_handle\u001b[0;34m(path_or_buf, mode, encoding, compression, memory_map, is_text, errors, storage_options)\u001b[0m\n\u001b[1;32m    700\u001b[0m         \u001b[0;32mif\u001b[0m \u001b[0mioargs\u001b[0m\u001b[0;34m.\u001b[0m\u001b[0mencoding\u001b[0m \u001b[0;32mand\u001b[0m \u001b[0;34m\"b\"\u001b[0m \u001b[0;32mnot\u001b[0m \u001b[0;32min\u001b[0m \u001b[0mioargs\u001b[0m\u001b[0;34m.\u001b[0m\u001b[0mmode\u001b[0m\u001b[0;34m:\u001b[0m\u001b[0;34m\u001b[0m\u001b[0;34m\u001b[0m\u001b[0m\n\u001b[1;32m    701\u001b[0m             \u001b[0;31m# Encoding\u001b[0m\u001b[0;34m\u001b[0m\u001b[0;34m\u001b[0m\u001b[0;34m\u001b[0m\u001b[0m\n\u001b[0;32m--> 702\u001b[0;31m             handle = open(\n\u001b[0m\u001b[1;32m    703\u001b[0m                 \u001b[0mhandle\u001b[0m\u001b[0;34m,\u001b[0m\u001b[0;34m\u001b[0m\u001b[0;34m\u001b[0m\u001b[0m\n\u001b[1;32m    704\u001b[0m                 \u001b[0mioargs\u001b[0m\u001b[0;34m.\u001b[0m\u001b[0mmode\u001b[0m\u001b[0;34m,\u001b[0m\u001b[0;34m\u001b[0m\u001b[0;34m\u001b[0m\u001b[0m\n",
            "\u001b[0;31mFileNotFoundError\u001b[0m: [Errno 2] No such file or directory: '/content/glass.csv.xls'"
          ]
        }
      ],
      "source": [
        "\n",
        "glass = pd.read_csv(\"/content/glass.csv.xls\")"
      ]
    },
    {
      "cell_type": "code",
      "execution_count": null,
      "metadata": {
        "id": "2J1jVcC-Bb4o"
      },
      "outputs": [],
      "source": [
        "glass"
      ]
    },
    {
      "cell_type": "code",
      "execution_count": null,
      "metadata": {
        "id": "lGrLXrpJ2-jG"
      },
      "outputs": [],
      "source": [
        "glass['Type'].value_counts()"
      ]
    },
    {
      "cell_type": "markdown",
      "metadata": {
        "id": "vTJG-6-zYJQo"
      },
      "source": [
        "### **Exploring Dataset:**\n",
        "\n",
        "*   Shape of Dataset\n",
        "*   Sample of head and tail of Dataset\n",
        "\n",
        "*   Datatype of Dataset\n",
        "*   Count of unique Values in Dataset\n",
        "\n",
        "*   Null count in Dataset\n",
        "*   Information of Dataset\n",
        "\n",
        "*   Statistics of Dataset\n",
        "\n",
        "\n",
        "\n",
        "\n"
      ]
    },
    {
      "cell_type": "code",
      "execution_count": null,
      "metadata": {
        "id": "YMbWOfrOreso"
      },
      "outputs": [],
      "source": [
        "glass.shape"
      ]
    },
    {
      "cell_type": "code",
      "execution_count": null,
      "metadata": {
        "id": "TjAbFVaOomiU"
      },
      "outputs": [],
      "source": [
        "glass.head()"
      ]
    },
    {
      "cell_type": "code",
      "execution_count": null,
      "metadata": {
        "id": "1R8WS-0zoqsj"
      },
      "outputs": [],
      "source": [
        "glass.tail()"
      ]
    },
    {
      "cell_type": "code",
      "execution_count": null,
      "metadata": {
        "id": "rGHrSCw2l5Ac"
      },
      "outputs": [],
      "source": [
        "glass.dtypes"
      ]
    },
    {
      "cell_type": "code",
      "execution_count": null,
      "metadata": {
        "id": "kwttbLKhrq8u"
      },
      "outputs": [],
      "source": [
        "glass.value_counts() #Return a Series containing counts of unique values"
      ]
    },
    {
      "cell_type": "code",
      "execution_count": null,
      "metadata": {
        "id": "G2MkKhO0owvI"
      },
      "outputs": [],
      "source": [
        "nullcount = glass.isna().sum()\n",
        "nullcount"
      ]
    },
    {
      "cell_type": "code",
      "execution_count": null,
      "metadata": {
        "id": "4ItNtXDmsMtr"
      },
      "outputs": [],
      "source": [
        "glass.info()"
      ]
    },
    {
      "cell_type": "code",
      "execution_count": null,
      "metadata": {
        "id": "fw5DM42_qCeH"
      },
      "outputs": [],
      "source": [
        "glass.describe().T"
      ]
    },
    {
      "cell_type": "markdown",
      "metadata": {
        "id": "_S3bmKEH-VvU"
      },
      "source": [
        "# **Data Visualization**"
      ]
    },
    {
      "cell_type": "code",
      "execution_count": null,
      "metadata": {
        "id": "iEGv-ool2-b8"
      },
      "outputs": [],
      "source": [
        "\n",
        "glass.plot()"
      ]
    },
    {
      "cell_type": "code",
      "execution_count": null,
      "metadata": {
        "id": "m2K5br2o2-Zk"
      },
      "outputs": [],
      "source": [
        "glass.plot(kind ='hist',y='Type')\n",
        "plt.show()"
      ]
    },
    {
      "cell_type": "code",
      "execution_count": null,
      "metadata": {
        "id": "ON5MJK-bZeZa"
      },
      "outputs": [],
      "source": [
        "features = ['RI','Na','Mg','Al','Si','K','Ca','Ba','Fe']\n",
        "label = ['Type']\n",
        "\n",
        "X = glass[features]\n",
        "y = glass[label]\n"
      ]
    },
    {
      "cell_type": "code",
      "execution_count": null,
      "metadata": {
        "id": "Pyeim0K32-Sh"
      },
      "outputs": [],
      "source": [
        "import seaborn as sns\n",
        "x2 = pd.DataFrame(X)\n",
        "\n",
        "plt.figure(figsize=(10,10))\n",
        "sns.pairplot(data=x2)\n",
        "plt.show()"
      ]
    },
    {
      "cell_type": "code",
      "execution_count": null,
      "metadata": {
        "id": "cT1Esp2jvMB6"
      },
      "outputs": [],
      "source": [
        "sns.set(style = 'whitegrid')\n",
        "for i in range(0,9):\n",
        "       sns.violinplot(x = \"Type\" , y = features[i] , data = glass)\n",
        "       plt.ylabel(features[i])\n",
        "       plt.show()"
      ]
    },
    {
      "cell_type": "code",
      "execution_count": null,
      "metadata": {
        "id": "nM1JtV2dzJdM"
      },
      "outputs": [],
      "source": [
        "for i in range(0,9):\n",
        "       sns.boxplot(x = \"Type\" , y = features[i] , data = glass)\n",
        "       plt.ylabel(features[i])\n",
        "       plt.show()"
      ]
    },
    {
      "cell_type": "markdown",
      "metadata": {
        "id": "vDXmFuTI-o38"
      },
      "source": [
        "\n",
        "# **Feature Engineering**"
      ]
    },
    {
      "cell_type": "markdown",
      "metadata": {
        "id": "AbwPBEfwAMh-"
      },
      "source": [
        "### **Checking the presence of null values in the Dataset**"
      ]
    },
    {
      "cell_type": "code",
      "execution_count": null,
      "metadata": {
        "id": "e39MLfUZAEmw"
      },
      "outputs": [],
      "source": [
        "#harini\n",
        "glass.isna().sum()"
      ]
    },
    {
      "cell_type": "code",
      "execution_count": null,
      "metadata": {
        "id": "yD_QXOp_Lje2"
      },
      "outputs": [],
      "source": [
        "from sklearn.preprocessing import StandardScaler\n",
        "scaler = StandardScaler()\n",
        "scaler.fit(X)\n",
        "X_scaled = scaler.transform(X)\n",
        "X_scaled = pd.DataFrame(X)"
      ]
    },
    {
      "cell_type": "markdown",
      "metadata": {
        "id": "J_SeS8JwbFT5"
      },
      "source": [
        "### **Checking Outliers in the Dataset and Removing the Outliers**"
      ]
    },
    {
      "cell_type": "code",
      "execution_count": null,
      "metadata": {
        "id": "DamkZQtHKIam"
      },
      "outputs": [],
      "source": [
        "for i in range(0,9):\n",
        "       sns.boxplot(x = features[i],data = glass)\n",
        "       plt.ylabel(features[i])\n",
        "       plt.show()"
      ]
    },
    {
      "cell_type": "code",
      "source": [
        "percentile25 = glass['RI'].quantile(0.25)\n",
        "percentile75 = glass['RI'].quantile(0.75)\n",
        "iqr=percentile75-percentile25"
      ],
      "metadata": {
        "id": "GPjdrBfu6BjC"
      },
      "execution_count": null,
      "outputs": []
    },
    {
      "cell_type": "code",
      "source": [
        "upper_limit = percentile75 + 1.5 * iqr\n",
        "lower_limit = percentile25 - 1.5 * iqr"
      ],
      "metadata": {
        "id": "p4fuUfQ76Hwg"
      },
      "execution_count": null,
      "outputs": []
    },
    {
      "cell_type": "code",
      "source": [
        "glass[glass['RI'] > upper_limit]\n",
        "glass[glass['RI'] < lower_limit]"
      ],
      "metadata": {
        "id": "B8PbE2Jp6KIT"
      },
      "execution_count": null,
      "outputs": []
    },
    {
      "cell_type": "code",
      "source": [
        "new_glass =glass[(glass[\"RI\"] > lower_limit) & (glass[\"RI\"] < upper_limit)]\n",
        "new_glass.shape"
      ],
      "metadata": {
        "id": "TwOSKftO6Kuw"
      },
      "execution_count": null,
      "outputs": []
    },
    {
      "cell_type": "code",
      "source": [
        "new_glass_cap = glass.copy()\n",
        "new_glass_cap['RI'] = np.where(\n",
        "    new_glass_cap['RI'] > upper_limit,\n",
        "    upper_limit,\n",
        "    np.where(\n",
        "        new_glass_cap['RI'] < lower_limit,\n",
        "        lower_limit,\n",
        "        new_glass_cap['RI']\n",
        "    )\n",
        ")"
      ],
      "metadata": {
        "id": "XhOop2Ok6PUe"
      },
      "execution_count": null,
      "outputs": []
    },
    {
      "cell_type": "code",
      "source": [
        "sns.boxplot(x = 'RI',data = new_glass_cap)\n",
        "plt.show()"
      ],
      "metadata": {
        "id": "f_bm1TFP6S8o"
      },
      "execution_count": null,
      "outputs": []
    },
    {
      "cell_type": "code",
      "source": [
        "percentile25 = glass['Na'].quantile(0.25)\n",
        "percentile75 = glass['Na'].quantile(0.75)\n",
        "iqr=percentile75-percentile25"
      ],
      "metadata": {
        "id": "M2J5eW0h6d_J"
      },
      "execution_count": null,
      "outputs": []
    },
    {
      "cell_type": "code",
      "source": [
        "upper_limit = percentile75 + 1.5 * iqr\n",
        "lower_limit = percentile25 - 1.5 * iqr"
      ],
      "metadata": {
        "id": "QuTxfLzp6hJK"
      },
      "execution_count": null,
      "outputs": []
    },
    {
      "cell_type": "code",
      "source": [
        "glass[glass['Na'] > upper_limit]\n",
        "glass[glass['Na'] < lower_limit]"
      ],
      "metadata": {
        "id": "a9FxHZuk6kmB"
      },
      "execution_count": null,
      "outputs": []
    },
    {
      "cell_type": "code",
      "source": [
        "new_glass =glass[(glass[\"Na\"] > lower_limit) & (glass[\"Na\"] < upper_limit)]\n",
        "new_glass.shape"
      ],
      "metadata": {
        "id": "NhzzOnAT6l9-"
      },
      "execution_count": null,
      "outputs": []
    },
    {
      "cell_type": "code",
      "source": [
        "new_glass_cap = glass.copy()\n",
        "new_glass_cap['Na'] = np.where(\n",
        "    new_glass_cap['Na'] > upper_limit,\n",
        "    upper_limit,\n",
        "    np.where(\n",
        "        new_glass_cap['Na'] < lower_limit,\n",
        "        lower_limit,\n",
        "        new_glass_cap['Na']\n",
        "    )\n",
        ")"
      ],
      "metadata": {
        "id": "L-ehAGfS6pXp"
      },
      "execution_count": null,
      "outputs": []
    },
    {
      "cell_type": "code",
      "source": [
        "sns.boxplot(x = 'Na',data = new_glass_cap)\n",
        "plt.show()"
      ],
      "metadata": {
        "id": "dWEwZq-w6rl9"
      },
      "execution_count": null,
      "outputs": []
    },
    {
      "cell_type": "code",
      "source": [
        "percentile25 = glass['Mg'].quantile(0.25)\n",
        "percentile75 = glass['Mg'].quantile(0.75)\n",
        "iqr=percentile75-percentile25"
      ],
      "metadata": {
        "id": "UN7LC3WL62wD"
      },
      "execution_count": null,
      "outputs": []
    },
    {
      "cell_type": "code",
      "source": [
        "upper_limit = percentile75 + 1.5 * iqr\n",
        "lower_limit = percentile25 - 1.5 * iqr"
      ],
      "metadata": {
        "id": "6O02WbeM7EII"
      },
      "execution_count": null,
      "outputs": []
    },
    {
      "cell_type": "code",
      "source": [
        "glass[glass['Mg'] > upper_limit]\n",
        "glass[glass['Mg'] < lower_limit]"
      ],
      "metadata": {
        "id": "42ipAOyK7H4S"
      },
      "execution_count": null,
      "outputs": []
    },
    {
      "cell_type": "code",
      "source": [
        "new_glass =glass[(glass[\"Mg\"] > lower_limit) & (glass[\"Mg\"] < upper_limit)]\n",
        "new_glass.shape"
      ],
      "metadata": {
        "id": "yZXORCDr7N_h"
      },
      "execution_count": null,
      "outputs": []
    },
    {
      "cell_type": "code",
      "source": [
        "new_glass_cap = glass.copy()\n",
        "new_glass_cap['Mg'] = np.where(\n",
        "    new_glass_cap['Mg'] > upper_limit,\n",
        "    upper_limit,\n",
        "    np.where(\n",
        "        new_glass_cap['Mg'] < lower_limit,\n",
        "        lower_limit,\n",
        "        new_glass_cap['Mg']\n",
        "    )\n",
        ")"
      ],
      "metadata": {
        "id": "8ipwKmzr7Q2b"
      },
      "execution_count": null,
      "outputs": []
    },
    {
      "cell_type": "code",
      "source": [
        "sns.boxplot(x = 'Mg',data = new_glass_cap)\n",
        "plt.show()"
      ],
      "metadata": {
        "id": "6Vv1Fuea7TiU"
      },
      "execution_count": null,
      "outputs": []
    },
    {
      "cell_type": "code",
      "source": [
        "percentile25 = glass['Al'].quantile(0.25)\n",
        "percentile75 = glass['Al'].quantile(0.75)\n",
        "iqr=percentile75-percentile25"
      ],
      "metadata": {
        "id": "UPASq_LA7vw5"
      },
      "execution_count": null,
      "outputs": []
    },
    {
      "cell_type": "code",
      "source": [
        "upper_limit = percentile75 + 1.5 * iqr\n",
        "lower_limit = percentile25 - 1.5 * iqr"
      ],
      "metadata": {
        "id": "lgMIvYP273LF"
      },
      "execution_count": null,
      "outputs": []
    },
    {
      "cell_type": "code",
      "source": [
        "glass[glass['Al'] > upper_limit]\n",
        "glass[glass['Al'] < lower_limit]"
      ],
      "metadata": {
        "id": "SFk74LaU77B8"
      },
      "execution_count": null,
      "outputs": []
    },
    {
      "cell_type": "code",
      "source": [
        "new_glass =glass[(glass[\"Al\"] > lower_limit) & (glass[\"Al\"] < upper_limit)]\n",
        "new_glass.shape"
      ],
      "metadata": {
        "id": "B8eHBWFg7-yW"
      },
      "execution_count": null,
      "outputs": []
    },
    {
      "cell_type": "code",
      "source": [
        "new_glass_cap = glass.copy()\n",
        "new_glass_cap['Al'] = np.where(\n",
        "    new_glass_cap['Al'] > upper_limit,\n",
        "    upper_limit,\n",
        "    np.where(\n",
        "        new_glass_cap['Al'] < lower_limit,\n",
        "        lower_limit,\n",
        "        new_glass_cap['Al']\n",
        "    )\n",
        ")"
      ],
      "metadata": {
        "id": "THx64_ta8BkF"
      },
      "execution_count": null,
      "outputs": []
    },
    {
      "cell_type": "code",
      "source": [
        "sns.boxplot(x = 'Al',data = new_glass_cap)\n",
        "plt.show()"
      ],
      "metadata": {
        "id": "KJnAhtJF8Eiy"
      },
      "execution_count": null,
      "outputs": []
    },
    {
      "cell_type": "code",
      "source": [
        "percentile25 = glass['Si'].quantile(0.25)\n",
        "percentile75 = glass['Si'].quantile(0.75)\n",
        "iqr=percentile75-percentile25"
      ],
      "metadata": {
        "id": "-vmTo1MK8fU_"
      },
      "execution_count": null,
      "outputs": []
    },
    {
      "cell_type": "code",
      "source": [
        "upper_limit = percentile75 + 1.5 * iqr\n",
        "lower_limit = percentile25 - 1.5 * iqr"
      ],
      "metadata": {
        "id": "ddJOvZyG8rKC"
      },
      "execution_count": null,
      "outputs": []
    },
    {
      "cell_type": "code",
      "source": [
        "glass[glass['Si'] > upper_limit]\n",
        "glass[glass['Si'] < lower_limit]"
      ],
      "metadata": {
        "id": "W4C1aK_g8utN"
      },
      "execution_count": null,
      "outputs": []
    },
    {
      "cell_type": "code",
      "source": [
        "new_glass =glass[(glass[\"Si\"] > lower_limit) & (glass[\"Si\"] < upper_limit)]\n",
        "new_glass.shape"
      ],
      "metadata": {
        "id": "Lb88oLz38vVU"
      },
      "execution_count": null,
      "outputs": []
    },
    {
      "cell_type": "code",
      "source": [
        "new_glass_cap = glass.copy()\n",
        "new_glass_cap['Si'] = np.where(\n",
        "    new_glass_cap['Si'] > upper_limit,\n",
        "    upper_limit,\n",
        "    np.where(\n",
        "        new_glass_cap['Si'] < lower_limit,\n",
        "        lower_limit,\n",
        "        new_glass_cap['Si']\n",
        "    )\n",
        ")"
      ],
      "metadata": {
        "id": "mJtk_aW78yny"
      },
      "execution_count": null,
      "outputs": []
    },
    {
      "cell_type": "code",
      "source": [
        "sns.boxplot(x = 'Si',data = new_glass_cap)\n",
        "plt.show()"
      ],
      "metadata": {
        "id": "u0gNUnBn84Uz"
      },
      "execution_count": null,
      "outputs": []
    },
    {
      "cell_type": "code",
      "source": [
        "percentile25 = glass['K'].quantile(0.25)\n",
        "percentile75 = glass['K'].quantile(0.75)\n",
        "iqr=percentile75-percentile25"
      ],
      "metadata": {
        "id": "3aAE2Uj_9Jgg"
      },
      "execution_count": null,
      "outputs": []
    },
    {
      "cell_type": "code",
      "source": [
        "upper_limit = percentile75 + 1.5 * iqr\n",
        "lower_limit = percentile25 - 1.5 * iqr"
      ],
      "metadata": {
        "id": "azXrBuP59M2Y"
      },
      "execution_count": null,
      "outputs": []
    },
    {
      "cell_type": "code",
      "source": [
        "glass[glass['K'] > upper_limit]\n",
        "glass[glass['K'] < lower_limit]"
      ],
      "metadata": {
        "id": "wQqLz8pl9QWZ"
      },
      "execution_count": null,
      "outputs": []
    },
    {
      "cell_type": "code",
      "source": [
        "new_glass =glass[(glass[\"K\"] > lower_limit) & (glass[\"K\"] < upper_limit)]\n",
        "new_glass.shape"
      ],
      "metadata": {
        "id": "DmzT4QvO9Tp3"
      },
      "execution_count": null,
      "outputs": []
    },
    {
      "cell_type": "code",
      "source": [
        "new_glass_cap = glass.copy()\n",
        "new_glass_cap['K'] = np.where(\n",
        "    new_glass_cap['K'] > upper_limit,\n",
        "    upper_limit,\n",
        "    np.where(\n",
        "        new_glass_cap['K'] < lower_limit,\n",
        "        lower_limit,\n",
        "        new_glass_cap['K']\n",
        "    )\n",
        ")"
      ],
      "metadata": {
        "id": "IulpRhBm9Wd9"
      },
      "execution_count": null,
      "outputs": []
    },
    {
      "cell_type": "code",
      "source": [
        "sns.boxplot(x = 'K',data = new_glass_cap)\n",
        "plt.show()"
      ],
      "metadata": {
        "id": "_OCBZ63b9ZbB"
      },
      "execution_count": null,
      "outputs": []
    },
    {
      "cell_type": "code",
      "source": [
        "percentile25 = glass['Ca'].quantile(0.25)\n",
        "percentile75 = glass['Ca'].quantile(0.75)\n",
        "iqr=percentile75-percentile25"
      ],
      "metadata": {
        "id": "rHRSM5s_91yn"
      },
      "execution_count": null,
      "outputs": []
    },
    {
      "cell_type": "code",
      "source": [
        "upper_limit = percentile75 + 1.5 * iqr\n",
        "lower_limit = percentile25 - 1.5 * iqr"
      ],
      "metadata": {
        "id": "X2iKxtl-9_op"
      },
      "execution_count": null,
      "outputs": []
    },
    {
      "cell_type": "code",
      "source": [
        "glass[glass['Ca'] > upper_limit]\n",
        "glass[glass['Ca'] < lower_limit]"
      ],
      "metadata": {
        "id": "X3IFwn7i-CJ0"
      },
      "execution_count": null,
      "outputs": []
    },
    {
      "cell_type": "code",
      "source": [
        "new_glass =glass[(glass[\"Ca\"] > lower_limit) & (glass[\"Ca\"] < upper_limit)]\n",
        "new_glass.shape"
      ],
      "metadata": {
        "id": "NkdmUtub-MyZ"
      },
      "execution_count": null,
      "outputs": []
    },
    {
      "cell_type": "code",
      "source": [
        "new_glass_cap = glass.copy()\n",
        "new_glass_cap['Ca'] = np.where(\n",
        "    new_glass_cap['Ca'] > upper_limit,\n",
        "    upper_limit,\n",
        "    np.where(\n",
        "        new_glass_cap['Ca'] < lower_limit,\n",
        "        lower_limit,\n",
        "        new_glass_cap['Ca']\n",
        "    )\n",
        ")"
      ],
      "metadata": {
        "id": "hyO-Q533-U7P"
      },
      "execution_count": null,
      "outputs": []
    },
    {
      "cell_type": "code",
      "source": [
        "sns.boxplot(x = 'Ca',data = new_glass_cap)\n",
        "plt.show()"
      ],
      "metadata": {
        "id": "A64yzbgd-jhE"
      },
      "execution_count": null,
      "outputs": []
    },
    {
      "cell_type": "code",
      "source": [
        "percentile25 = glass['Ba'].quantile(0.25)\n",
        "percentile75 = glass['Ba'].quantile(0.75)\n",
        "iqr=percentile75-percentile25"
      ],
      "metadata": {
        "id": "EzFFRh5r-r0P"
      },
      "execution_count": null,
      "outputs": []
    },
    {
      "cell_type": "code",
      "source": [
        "upper_limit = percentile75 + 1.5 * iqr\n",
        "lower_limit = percentile25 - 1.5 * iqr"
      ],
      "metadata": {
        "id": "59Bxhrrx-wnh"
      },
      "execution_count": null,
      "outputs": []
    },
    {
      "cell_type": "code",
      "source": [
        "glass[glass['Ba'] > upper_limit]\n",
        "glass[glass['Ba'] < lower_limit]"
      ],
      "metadata": {
        "id": "h0RJPIke-2G_"
      },
      "execution_count": null,
      "outputs": []
    },
    {
      "cell_type": "code",
      "source": [
        "new_glass =glass[(glass[\"Ba\"] > lower_limit) & (glass[\"Ba\"] < upper_limit)]\n",
        "new_glass.shape"
      ],
      "metadata": {
        "id": "wtXrcFi5-2w7"
      },
      "execution_count": null,
      "outputs": []
    },
    {
      "cell_type": "code",
      "source": [
        "new_glass_cap = glass.copy()\n",
        "new_glass_cap['Ba'] = np.where(\n",
        "    new_glass_cap['Ba'] > upper_limit,\n",
        "    upper_limit,\n",
        "    np.where(\n",
        "        new_glass_cap['Ba'] < lower_limit,\n",
        "        lower_limit,\n",
        "        new_glass_cap['Ba']\n",
        "    )\n",
        ")"
      ],
      "metadata": {
        "id": "AgctVsD3-5te"
      },
      "execution_count": null,
      "outputs": []
    },
    {
      "cell_type": "code",
      "source": [
        "sns.boxplot(x = 'Ba',data = new_glass_cap)\n",
        "plt.show()"
      ],
      "metadata": {
        "id": "0SwWzSPB-8j7"
      },
      "execution_count": null,
      "outputs": []
    },
    {
      "cell_type": "code",
      "source": [
        "percentile25 = glass['Fe'].quantile(0.25)\n",
        "percentile75 = glass['Fe'].quantile(0.75)\n",
        "iqr=percentile75-percentile25"
      ],
      "metadata": {
        "id": "QDvIgGLs_PYx"
      },
      "execution_count": null,
      "outputs": []
    },
    {
      "cell_type": "code",
      "source": [
        "upper_limit = percentile75 + 1.5 * iqr\n",
        "lower_limit = percentile25 - 1.5 * iqr"
      ],
      "metadata": {
        "id": "Z8PtUTj__Zux"
      },
      "execution_count": null,
      "outputs": []
    },
    {
      "cell_type": "code",
      "source": [
        "glass[glass['Fe'] > upper_limit]\n",
        "glass[glass['Fe'] < lower_limit]"
      ],
      "metadata": {
        "id": "KKBTERnY_bAj"
      },
      "execution_count": null,
      "outputs": []
    },
    {
      "cell_type": "code",
      "source": [
        "new_glass =glass[(glass[\"Fe\"] > lower_limit) & (glass[\"Fe\"] < upper_limit)]\n",
        "new_glass.shape"
      ],
      "metadata": {
        "id": "8GMlmtZ3_lj_"
      },
      "execution_count": null,
      "outputs": []
    },
    {
      "cell_type": "code",
      "source": [
        "new_glass_cap = glass.copy()\n",
        "new_glass_cap['Fe'] = np.where(\n",
        "    new_glass_cap['Fe'] > upper_limit,\n",
        "    upper_limit,\n",
        "    np.where(\n",
        "        new_glass_cap['Fe'] < lower_limit,\n",
        "        lower_limit,\n",
        "        new_glass_cap['Fe']\n",
        "    )\n",
        ")"
      ],
      "metadata": {
        "id": "6cx91JrX_mNm"
      },
      "execution_count": null,
      "outputs": []
    },
    {
      "cell_type": "code",
      "source": [
        "sns.boxplot(x = 'Fe',data = new_glass_cap)\n",
        "plt.show()"
      ],
      "metadata": {
        "id": "IpPjt-eb_o8r"
      },
      "execution_count": null,
      "outputs": []
    },
    {
      "cell_type": "markdown",
      "metadata": {
        "id": "nwYI_UDKbcOi"
      },
      "source": [
        "### **Finding Correlation of the dataset between all the columns**"
      ]
    },
    {
      "cell_type": "code",
      "execution_count": null,
      "metadata": {
        "id": "PNMFCIk_sRbn"
      },
      "outputs": [],
      "source": [
        "glass.corr()"
      ]
    },
    {
      "cell_type": "code",
      "execution_count": null,
      "metadata": {
        "id": "GcjmCM7ra3i-"
      },
      "outputs": [],
      "source": [
        "correlation= glass.corr()\n",
        "plt.figure(figsize=(12,10))\n",
        "sns.heatmap(correlation, cbar=True, square=True, annot=True,cmap= 'coolwarm')\n",
        "plt.show()"
      ]
    },
    {
      "cell_type": "markdown",
      "metadata": {
        "id": "a-bZsPUEtUqq"
      },
      "source": [
        "Our Diagram shows correaltion between different features Conclusion:\n",
        "\n",
        "\n",
        "\n",
        "* RI and Ca have strong correlation between each other\n",
        "\n",
        "*  AI and ba have intermediate correlation between each other\n",
        "\n"
      ]
    },
    {
      "cell_type": "code",
      "execution_count": null,
      "metadata": {
        "id": "ezCyTyrHa_0C"
      },
      "outputs": [],
      "source": [
        "glass=glass.drop(columns=\"Ca\")\n",
        "glass"
      ]
    },
    {
      "cell_type": "markdown",
      "metadata": {
        "id": "DZTfUe4icaHp"
      },
      "source": [
        "### **Boxplot to show the minimization of Outliers**"
      ]
    },
    {
      "cell_type": "code",
      "execution_count": null,
      "metadata": {
        "id": "168ehg1Kk8jr"
      },
      "outputs": [],
      "source": [
        "newfeatures = ['RI','Na','Mg','Al','Si','K','Ba','Fe']\n",
        "for i in range(0,8):\n",
        "       sns.boxplot(x = newfeatures[i],data = glass)\n",
        "       plt.ylabel(newfeatures[i])\n",
        "       plt.show()"
      ]
    },
    {
      "cell_type": "markdown",
      "metadata": {
        "id": "qGqaoKEM-2Uq"
      },
      "source": [
        "# **Train Test Split**"
      ]
    },
    {
      "cell_type": "markdown",
      "metadata": {
        "id": "cVeEPbFydYol"
      },
      "source": [
        "\n",
        "\n",
        "\n",
        "\n",
        "\n",
        "\n",
        "\n",
        "\n",
        "\n",
        "\n",
        "\n",
        "\n",
        "\n",
        "\n",
        "\n",
        "\n",
        "\n",
        "\n",
        "\n",
        "\n",
        "\n",
        "\n",
        "\n",
        "\n",
        "\n",
        "\n",
        "\n",
        "\n",
        "\n",
        "\n",
        "\n",
        "\n",
        "\n",
        "\n",
        "\n",
        "\n",
        "\n",
        "\n",
        "\n",
        "\n",
        "\n",
        "\n",
        "\n",
        "\n",
        "\n",
        "\n",
        "\n",
        "\n",
        "\n",
        "\n",
        "\n",
        "\n",
        "\n",
        "f Train and Test Set**"
      ]
    },
    {
      "cell_type": "code",
      "execution_count": null,
      "metadata": {
        "id": "qwPnYIVFVEIe"
      },
      "outputs": [],
      "source": [
        "#karish\n",
        "from sklearn.model_selection import train_test_split\n",
        "\n",
        "X_train, X_test, y_train, y_test = train_test_split(X_scaled, y,train_size=0.65, test_size=0.35)"
      ]
    },
    {
      "cell_type": "markdown",
      "source": [
        "## Logistic Regression\n",
        "\n",
        "\n"
      ],
      "metadata": {
        "id": "e5TJEsU_QZsH"
      }
    },
    {
      "cell_type": "code",
      "execution_count": null,
      "metadata": {
        "id": "Vro2DaTwVC8s"
      },
      "outputs": [],
      "source": [
        "#logistic Regression\n",
        "from sklearn.multiclass import OneVsRestClassifier\n",
        "from sklearn.linear_model import LogisticRegression\n",
        "from sklearn.metrics import classification_report, confusion_matrix\n",
        "from sklearn.metrics import accuracy_score\n",
        "clf1 = OneVsRestClassifier(LogisticRegression(C =10 , random_state=1367))\n",
        "clf1.fit(X_train , y_train)\n",
        "y1 = clf1.predict(X_test)\n",
        "print (classification_report(y_test , y1))\n",
        "print (\"Classification Accuracy = \" + str(accuracy_score(y_test , y1)))\n",
        "#confusion matrix\n",
        "cm = confusion_matrix(y_test, clf1.predict(X_test))\n",
        "\n",
        "fig, ax = plt.subplots(figsize=(16, 16))\n",
        "ax.imshow(cm)\n",
        "ax.grid(False)\n",
        "ax.xaxis.set(ticks=(0, 1), ticklabels=('Predicted 0s', 'Predicted 1s'))\n",
        "ax.yaxis.set(ticks=(0, 1), ticklabels=('Actual 0s', 'Actual 1s'))\n",
        "ax.set_ylim(1.5, -0.5)\n",
        "for i in range(2):\n",
        "    for j in range(2):\n",
        "        ax.text(j, i, cm[i, j], ha='center', va='center', color='red')\n",
        "plt.show()"
      ]
    },
    {
      "cell_type": "markdown",
      "source": [
        "## Random Forest"
      ],
      "metadata": {
        "id": "qvbWc500Qpdw"
      }
    },
    {
      "cell_type": "code",
      "execution_count": null,
      "metadata": {
        "id": "bP9QAyUzVjuZ"
      },
      "outputs": [],
      "source": [
        "#Random Forest #karish\n",
        "from sklearn.ensemble import RandomForestClassifier\n",
        "clf4 = OneVsRestClassifier(RandomForestClassifier(n_estimators=200 ,min_samples_split=2 ,min_samples_leaf=5, n_jobs=-1,  random_state=1367))\n",
        "clf4.fit(X_train , y_train)\n",
        "y4 = clf4.predict(X_test)\n",
        "print (classification_report(y_test , y4))\n",
        "print( \"Classification Accuracy = \" + str(accuracy_score(y_test , y4)))\n",
        "#confusion matrix\n",
        "cm = confusion_matrix(y_test, clf4.predict(X_test))\n",
        "\n",
        "fig, ax = plt.subplots(figsize=(16, 16))\n",
        "ax.imshow(cm)\n",
        "ax.grid(False)\n",
        "ax.xaxis.set(ticks=(0, 1), ticklabels=('Predicted 0s', 'Predicted 1s'))\n",
        "ax.yaxis.set(ticks=(0, 1), ticklabels=('Actual 0s', 'Actual 1s'))\n",
        "ax.set_ylim(1.5, -0.5)\n",
        "for i in range(2):\n",
        "    for j in range(2):\n",
        "        ax.text(j, i, cm[i, j], ha='center', va='center', color='red')\n",
        "plt.show()"
      ]
    },
    {
      "cell_type": "markdown",
      "metadata": {
        "id": "NK-d0niMd3tV"
      },
      "source": [
        "## **Non-Linear SVM**\n"
      ]
    },
    {
      "cell_type": "code",
      "execution_count": null,
      "metadata": {
        "id": "WkUqv2F4n-fV"
      },
      "outputs": [],
      "source": [
        "#ananya\n",
        "from sklearn.svm import SVC\n",
        "\n",
        "svm_model = SVC(gamma='auto').fit(X_train, y_train)\n",
        "svm_predictions = svm_model.predict(X_test)\n",
        "\n",
        "acc_train = svm_model.score(X_train, y_train)\n",
        "acc_test = svm_model.score(X_test, y_test)\n",
        "\n",
        "print(\"Accuracy: \",acc_train)\n",
        "\n",
        "#confusion matrix\n",
        "cm = confusion_matrix(y_test, svm_model.predict(X_test))\n",
        "\n",
        "fig, ax = plt.subplots(figsize=(16, 16))\n",
        "ax.imshow(cm)\n",
        "ax.grid(False)\n",
        "ax.xaxis.set(ticks=(0, 1), ticklabels=('Predicted 0s', 'Predicted 1s'))\n",
        "ax.yaxis.set(ticks=(0, 1), ticklabels=('Actual 0s', 'Actual 1s'))\n",
        "ax.set_ylim(1.5, -0.5)\n",
        "for i in range(2):\n",
        "    for j in range(2):\n",
        "        ax.text(j, i, cm[i, j], ha='center', va='center', color='red')\n",
        "plt.show()\n",
        "\n",
        "\n",
        "\n"
      ]
    },
    {
      "cell_type": "code",
      "source": [
        "clf2 = OneVsRestClassifier(SVC(kernel='linear',C = 1,probability=True,random_state=1367))\n",
        "clf2.fit(X_train , y_train)\n",
        "y2 = clf2.predict(X_test)\n",
        "print (classification_report(y_test , y2))\n",
        "print (\"Classification Accuracy = \" + str(accuracy_score(y_test , y2)))"
      ],
      "metadata": {
        "id": "reOS7-Q8zgap"
      },
      "execution_count": null,
      "outputs": []
    },
    {
      "cell_type": "markdown",
      "source": [
        "## K-Nearest Neighbour"
      ],
      "metadata": {
        "id": "32sRJswKRDwU"
      }
    },
    {
      "cell_type": "code",
      "execution_count": null,
      "metadata": {
        "id": "bTle3qDFmIfe"
      },
      "outputs": [],
      "source": [
        "from sklearn.metrics import accuracy_score\n",
        "from sklearn.neighbors import KNeighborsClassifier\n",
        "\n",
        "Scores = []\n",
        "\n",
        "for i in range (1,10):\n",
        "    knn = KNeighborsClassifier(n_neighbors=i)\n",
        "    knn.fit(X_train, y_train)\n",
        "    score = knn.score(X_test,y_test)\n",
        "    Scores.append(score)\n",
        "\n",
        "print(knn.score(X_train,y_train))\n",
        "print(Scores)\n",
        "\n",
        "\n",
        "cm = confusion_matrix(y_test, svm_model.predict(X_test))\n",
        "\n",
        "fig, ax = plt.subplots(figsize=(16, 16))\n",
        "ax.imshow(cm)\n",
        "ax.grid(False)\n",
        "ax.xaxis.set(ticks=(0, 1), ticklabels=('Predicted 0s', 'Predicted 1s'))\n",
        "ax.yaxis.set(ticks=(0, 1), ticklabels=('Actual 0s', 'Actual 1s'))\n",
        "ax.set_ylim(1.5, -0.5)\n",
        "for i in range(2):\n",
        "    for j in range(2):\n",
        "        ax.text(j, i, cm[i, j], ha='center', va='center', color='red')\n",
        "plt.show()\n",
        "\n"
      ]
    },
    {
      "cell_type": "markdown",
      "source": [
        "# HyperParameter Tuning"
      ],
      "metadata": {
        "id": "gmpuBi37R2HJ"
      }
    },
    {
      "cell_type": "code",
      "source": [
        "from sklearn.model_selection import GridSearchCV\n",
        "tuned_parameters = [{'kernel': ['rbf','linear'], 'gamma': [0.001, 0.01, 0.1, 10],\n",
        "                     'C': [0.001, 0.01, 0.1, 1, 10]}]\n",
        "grid = GridSearchCV(SVC(), tuned_parameters, cv=5, scoring='accuracy')\n",
        "grid.fit(X_train, y_train)\n",
        "print(\"Best parameters set found on development set:\")\n",
        "print()\n",
        "print(grid.best_params_)"
      ],
      "metadata": {
        "id": "Aru6enxr3fnB"
      },
      "execution_count": null,
      "outputs": []
    },
    {
      "cell_type": "code",
      "source": [
        "model = grid.best_estimator_\n",
        "model.fit(X_train,y_train)\n",
        "y_pred = model.predict(X_test)\n",
        "metrics.accuracy_score(y_pred,y_test)"
      ],
      "metadata": {
        "id": "Xp21i9a03hzX"
      },
      "execution_count": null,
      "outputs": []
    },
    {
      "cell_type": "code",
      "source": [
        "# Let's plot the confusion matrix\n",
        "mat = confusion_matrix(y_test, y_pred)\n",
        "plt.subplots(figsize=(12,8))\n",
        "sns.heatmap(mat.T, square=True, annot=True, fmt='d', cbar=False)\n",
        "plt.xlabel('true label')\n",
        "plt.ylabel('predicted label')"
      ],
      "metadata": {
        "id": "LMMGpYBB3quC"
      },
      "execution_count": null,
      "outputs": []
    },
    {
      "cell_type": "code",
      "source": [
        "print(classification_report(y_test, y_pred))"
      ],
      "metadata": {
        "id": "JWC8Lq7P3t_Y"
      },
      "execution_count": null,
      "outputs": []
    },
    {
      "cell_type": "code",
      "source": [
        "from sklearn.tree import DecisionTreeClassifier\n",
        "from sklearn import metrics\n",
        "max_depth_range = list(range(1, 20))\n",
        "scores = []\n",
        "for k in max_depth_range:\n",
        "    clf = DecisionTreeClassifier(max_depth=k)\n",
        "    clf.fit(X_train, y_train)\n",
        "    y_pred = clf.predict(X_test)\n",
        "    scores.append(metrics.accuracy_score(y_test, y_pred))\n",
        "\n",
        "scores"
      ],
      "metadata": {
        "id": "Q7lKFQAgSEx2"
      },
      "execution_count": null,
      "outputs": []
    },
    {
      "cell_type": "code",
      "source": [
        "# import Matplotlib (scientific plotting library)\n",
        "import matplotlib.pyplot as plt\n",
        "\n",
        "# allow plots to appear within the notebook\n",
        "%matplotlib inline\n",
        "\n",
        "# plot the relationship between K and testing accuracy\n",
        "plt.plot(max_depth_range, scores)\n",
        "plt.xlabel('Value of max_depth for Decision Tree')\n",
        "plt.ylabel('Testing Accuracy')"
      ],
      "metadata": {
        "id": "BoytsN3_Tdii"
      },
      "execution_count": null,
      "outputs": []
    },
    {
      "cell_type": "markdown",
      "source": [
        "depth of 5, 12 and 14 gives the best results"
      ],
      "metadata": {
        "id": "rkaQ6tKqTro4"
      }
    },
    {
      "cell_type": "markdown",
      "source": [
        "# Principal Component Analysis\n",
        "used for dimension reduction"
      ],
      "metadata": {
        "id": "mNjIFjBNwYGN"
      }
    },
    {
      "cell_type": "markdown",
      "source": [
        "## PCA + Logistic Regression"
      ],
      "metadata": {
        "id": "wSxbwB6eRZke"
      }
    },
    {
      "cell_type": "code",
      "source": [
        "from sklearn.decomposition import PCA # dimensionality reduction#\n",
        "pca = PCA(random_state = 1)\n",
        "pca.fit(X_train)\n",
        "var_exp = pca.explained_variance_ratio_\n",
        "cum_var_exp = np.cumsum(var_exp)\n",
        "plt.figure(figsize=(8,6))\n",
        "plt.bar(range(1,len(cum_var_exp)+1), var_exp, align= 'center', label= 'individual variance explained', \\\n",
        "       alpha = 0.7)\n",
        "plt.step(range(1,len(cum_var_exp)+1), cum_var_exp, where = 'mid' , label= 'cumulative variance explained', \\\n",
        "        color= 'red')\n",
        "plt.ylabel('Explained variance ratio')\n",
        "plt.xlabel('Principal components')\n",
        "plt.xticks(np.arange(1,len(var_exp)+1,1))\n",
        "plt.legend(loc='center right')\n",
        "plt.show()\n",
        "\n",
        "# Cumulative variance explained\n",
        "var_df = pd.DataFrame(pca.explained_variance_.round(2), index=[\"P\" + str(i) for i in range(1,10)],\n",
        "                      columns=[\"Explained_Variance\"])\n",
        "print(var_df.T)"
      ],
      "metadata": {
        "id": "QJVU5vDCHQ7V"
      },
      "execution_count": null,
      "outputs": []
    },
    {
      "cell_type": "markdown",
      "source": [
        "## PCA + Linear SVM"
      ],
      "metadata": {
        "id": "K-8jNv_pym5L"
      }
    },
    {
      "cell_type": "code",
      "source": [
        "svm = SVC(kernel='linear',probability=True,random_state=1367)\n",
        "pca = decomposition.PCA()\n",
        "pipe = Pipeline(steps=[('pca', pca), ('svm', svm)])\n",
        "pca.fit(X)\n",
        "plt.figure( figsize=(8, 6))\n",
        "plt.axes([.2, .2, .7, .7])\n",
        "plt.plot(pca.explained_variance_, linewidth=2, color = \"green\")\n",
        "plt.axis('tight')\n",
        "plt.xlabel('# of PCs')\n",
        "plt.xticks(range(1,10))\n",
        "plt.ylabel('Explained Variance')\n",
        "\n",
        "n_components = range(1,10)\n",
        "Cs = [1 , 10 , 100]\n",
        "estimator = GridSearchCV(pipe,dict(pca__n_components=n_components,svm__C=Cs))\n",
        "estimator.fit(X, Y)\n",
        "\n",
        "plt.axvline(estimator.best_estimator_.named_steps['pca'].n_components,\n",
        "            linestyle=':', color = \"k\", label='Best # of PCs')\n",
        "plt.legend(loc = 0 ,prop=dict(size=15))\n",
        "plt.show()\n"
      ],
      "metadata": {
        "id": "wH4jVybRy8yg"
      },
      "execution_count": null,
      "outputs": []
    },
    {
      "cell_type": "code",
      "source": [
        "pca = decomposition.PCA(n_components=5, svd_solver='full', random_state=1367)\n",
        "X_pca = pca.fit_transform(X)\n",
        "X_train, X_test, y_train, y_test = train_test_split(X_pca, Y,train_size=0.75, test_size=0.25 , random_state = 1367)\n",
        "clf2.fit(X_train , y_train)\n",
        "y2 = clf2.predict(X_test)\n",
        "print (classification_report(y_test , y2))\n",
        "print (\"Classification Accuracy = \" + str(accuracy_score(y_test , y2)))"
      ],
      "metadata": {
        "id": "SmllE2I5y-Fl"
      },
      "execution_count": null,
      "outputs": []
    },
    {
      "cell_type": "markdown",
      "source": [
        "# Gradient Boosting\n"
      ],
      "metadata": {
        "id": "ShEtt8Bbx9sI"
      }
    },
    {
      "cell_type": "code",
      "source": [
        "from sklearn.ensemble import GradientBoostingClassifier\n",
        "gb = GradientBoostingClassifier(random_state=1367)\n",
        "pca = decomposition.PCA()\n",
        "pipe = Pipeline(steps=[('pca', pca), ('gb', gb)])\n",
        "pca.fit(X)\n",
        "plt.figure( figsize=(8, 6))\n",
        "plt.axes([.2, .2, .7, .7])\n",
        "plt.plot(pca.explained_variance_, linewidth=2, color = \"green\")\n",
        "plt.axis('tight')\n",
        "plt.xlabel('# of PCs')\n",
        "plt.xticks(range(1,10))\n",
        "plt.ylabel('Explained Variance')\n",
        "\n",
        "n_components = range(1,10)\n",
        "trees = [10]\n",
        "\n",
        "estimator = GridSearchCV(pipe,dict(pca__n_components=n_components,gb__n_estimators=trees))\n",
        "estimator.fit(X, Y)\n",
        "\n",
        "plt.axvline(estimator.best_estimator_.named_steps['pca'].n_components,\n",
        "            linestyle=':', color = \"k\", label='Best # of PCs')\n",
        "plt.legend(loc = 0 ,prop=dict(size=15))\n",
        "plt.show()"
      ],
      "metadata": {
        "id": "oyaQMfUbyJcX"
      },
      "execution_count": null,
      "outputs": []
    },
    {
      "cell_type": "code",
      "source": [
        "clf5 = OneVsRestClassifier(GradientBoostingClassifier(n_estimators=20 ,min_samples_leaf= 5 ,min_samples_split=50,\n",
        "                                                      max_depth= 7 ,random_state=1367))\n",
        "pca = decomposition.PCA(n_components=4, svd_solver='full', random_state=1367)\n",
        "X_pca = pca.fit_transform(X)\n",
        "X_train, X_test, y_train, y_test = train_test_split(X_pca, Y,train_size=0.75, test_size=0.25 , random_state = 1367)\n",
        "clf5.fit(X_train , y_train)\n",
        "y5 = clf5.predict(X_test)\n",
        "print (classification_report(y_test , y5))\n",
        "print (\"Classification Accuracy = \" + str(accuracy_score(y_test , y5)))"
      ],
      "metadata": {
        "id": "OJESwmmRyXEI"
      },
      "execution_count": null,
      "outputs": []
    },
    {
      "cell_type": "markdown",
      "source": [
        "# K-Means Clustering\n"
      ],
      "metadata": {
        "id": "Kd9904fGaJxn"
      }
    },
    {
      "cell_type": "code",
      "source": [
        "from sklearn.cluster import KMeans\n",
        "\n",
        "clf_KM = KMeans(n_clusters = 7)\n",
        "clf_KM.fit(X_train, y_train)\n",
        "\n",
        "y = clf_KM.predict(X_test)\n",
        "print (classification_report(y_test , y))\n",
        "print (\"Classification Accuracy = \" + str(accuracy_score(y_test , y)))\n",
        "\n"
      ],
      "metadata": {
        "id": "3AavBDCFWem4"
      },
      "execution_count": null,
      "outputs": []
    },
    {
      "cell_type": "markdown",
      "source": [
        "# Neural Networks"
      ],
      "metadata": {
        "id": "CAbvuPIV0Aw-"
      }
    },
    {
      "cell_type": "code",
      "source": [
        "from matplotlib import pyplot\n",
        "from math import cos, sin, atan\n",
        "class Neuron():\n",
        "    def __init__(self, x, y):\n",
        "        self.x = x\n",
        "        self.y = y\n",
        "\n",
        "    def draw(self, neuron_radius):\n",
        "        circle = pyplot.Circle((self.x, self.y), radius=neuron_radius, color = \"black\", fill=True)\n",
        "        pyplot.gca().add_patch(circle)\n",
        "\n",
        "\n",
        "class Layer():\n",
        "    def __init__(self, network, number_of_neurons, number_of_neurons_in_widest_layer):\n",
        "        self.vertical_distance_between_layers = 60\n",
        "        self.horizontal_distance_between_neurons = 20\n",
        "        self.neuron_radius = 6\n",
        "        self.number_of_neurons_in_widest_layer = number_of_neurons_in_widest_layer\n",
        "        self.previous_layer = self.__get_previous_layer(network)\n",
        "        self.y = self.__calculate_layer_y_position()\n",
        "        self.neurons = self.__intialise_neurons(number_of_neurons)\n",
        "\n",
        "    def __intialise_neurons(self, number_of_neurons):\n",
        "        neurons = []\n",
        "        x = self.__calculate_left_margin_so_layer_is_centered(number_of_neurons)\n",
        "        for iteration in range(number_of_neurons):\n",
        "            neuron = Neuron(x, self.y)\n",
        "            neurons.append(neuron)\n",
        "            x += self.horizontal_distance_between_neurons\n",
        "        return neurons\n",
        "\n",
        "    def __calculate_left_margin_so_layer_is_centered(self, number_of_neurons):\n",
        "        return self.horizontal_distance_between_neurons*(self.number_of_neurons_in_widest_layer-number_of_neurons)/2\n",
        "\n",
        "    def __calculate_layer_y_position(self):\n",
        "        if self.previous_layer:\n",
        "            return self.previous_layer.y + self.vertical_distance_between_layers\n",
        "        else:\n",
        "            return 0\n",
        "\n",
        "    def __get_previous_layer(self, network):\n",
        "        if len(network.layers) > 0:\n",
        "            return network.layers[-1]\n",
        "        else:\n",
        "            return None\n",
        "\n",
        "    def __line_between_two_neurons(self, neuron1, neuron2):\n",
        "        angle = atan((neuron2.x - neuron1.x) / float(neuron2.y - neuron1.y))\n",
        "        x_adjustment = self.neuron_radius * sin(angle)\n",
        "        y_adjustment = self.neuron_radius * cos(angle)\n",
        "        line = pyplot.Line2D((neuron1.x - x_adjustment, neuron2.x + x_adjustment),\n",
        "                             (neuron1.y - y_adjustment, neuron2.y + y_adjustment) , color = \"darkorange\")\n",
        "        pyplot.gca().add_line(line)\n",
        "\n",
        "    def draw(self, layerType=0):\n",
        "        for neuron in self.neurons:\n",
        "            neuron.draw( self.neuron_radius )\n",
        "            if self.previous_layer:\n",
        "                for previous_layer_neuron in self.previous_layer.neurons:\n",
        "                    self.__line_between_two_neurons(neuron, previous_layer_neuron)\n",
        "        # write Text\n",
        "        x_text = self.number_of_neurons_in_widest_layer * self.horizontal_distance_between_neurons\n",
        "        if layerType == 0:\n",
        "            pyplot.text(x_text, self.y, 'Input Layer', fontsize = 12)\n",
        "        elif layerType == -1:\n",
        "            pyplot.text(x_text, self.y, 'Output Layer', fontsize = 12)\n",
        "        else:\n",
        "            pyplot.text(x_text, self.y, 'Hidden Layer '+str(layerType), fontsize = 12)\n",
        "\n",
        "class NeuralNetwork():\n",
        "    def __init__(self, number_of_neurons_in_widest_layer):\n",
        "        self.number_of_neurons_in_widest_layer = number_of_neurons_in_widest_layer\n",
        "        self.layers = []\n",
        "        self.layertype = 0\n",
        "\n",
        "    def add_layer(self, number_of_neurons ):\n",
        "        layer = Layer(self, number_of_neurons, self.number_of_neurons_in_widest_layer)\n",
        "        self.layers.append(layer)\n",
        "\n",
        "    def draw(self):\n",
        "        pyplot.figure()\n",
        "        for i in range( len(self.layers) ):\n",
        "            layer = self.layers[i]\n",
        "            if i == len(self.layers)-1:\n",
        "                i = -1\n",
        "            layer.draw( i )\n",
        "        pyplot.axis('scaled')\n",
        "        pyplot.axis('off')\n",
        "        pyplot.title( 'Neural Network Architecture for Glass Data', fontsize=15 )\n",
        "        pyplot.show()\n",
        "\n",
        "class DrawNN():\n",
        "    def __init__( self, neural_network ):\n",
        "        self.neural_network = neural_network\n",
        "\n",
        "    def draw( self ):\n",
        "        widest_layer = max( self.neural_network )\n",
        "        network = NeuralNetwork( widest_layer )\n",
        "        for l in self.neural_network:\n",
        "            network.add_layer(l)\n",
        "        network.draw()\n",
        "\n",
        "network = DrawNN( [9,8,7,6] )\n",
        "network.draw()"
      ],
      "metadata": {
        "id": "8jaj1SQR0Jom"
      },
      "execution_count": null,
      "outputs": []
    }
  ],
  "metadata": {
    "colab": {
      "provenance": [],
      "toc_visible": true
    },
    "kernelspec": {
      "display_name": "Python 3",
      "name": "python3"
    },
    "language_info": {
      "name": "python"
    }
  },
  "nbformat": 4,
  "nbformat_minor": 0
}